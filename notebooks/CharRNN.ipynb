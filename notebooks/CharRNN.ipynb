{
 "cells": [
  {
   "cell_type": "code",
   "execution_count": 1,
   "id": "e4064c5d-3011-4561-b68f-4d845fa38a12",
   "metadata": {},
   "outputs": [],
   "source": [
    "import os\n",
    "os.chdir(\"..\")"
   ]
  },
  {
   "cell_type": "code",
   "execution_count": 2,
   "id": "387f1938-df81-439c-97d6-a4757673a0b6",
   "metadata": {},
   "outputs": [],
   "source": [
    "import torch\n",
    "import tensorflow as tf\n",
    "import numpy as np"
   ]
  },
  {
   "cell_type": "code",
   "execution_count": 3,
   "id": "c8419e2e-477a-4bc2-9c07-2973cfdc7f47",
   "metadata": {},
   "outputs": [],
   "source": [
    "shakespear_url = \"https://raw.githubusercontent.com/karpathy/char-rnn/master/data/tinyshakespeare/input.txt\"\n",
    "filepath =  tf.keras.utils.get_file(\"shakespear.txt\", shakespear_url)\n",
    "with open(filepath) as fp:\n",
    "    shakespear = fp.read()\n",
    "    shakespear = shakespear.lower()"
   ]
  },
  {
   "cell_type": "code",
   "execution_count": 21,
   "id": "f2a25f95-2bd5-4441-9d7a-b9e8ad27c666",
   "metadata": {},
   "outputs": [],
   "source": [
    "text_tokenisations = tf.keras.layers.TextVectorization(split='character', standardize='lower')\n",
    "text_tokenisations.adapt([shakespear])\n",
    "tokens = text_tokenisations([shakespear])[0]\n",
    "tokens -= 2 # remove 0, 1 which are for padding and unknown chars resp\n",
    "vocab_size = text_tokenisations.vocabulary_size() - 2\n",
    "data_size = len(tokens)"
   ]
  },
  {
   "cell_type": "code",
   "execution_count": 88,
   "id": "af61d817-841d-4e89-9fc6-4b782ae1b6f6",
   "metadata": {},
   "outputs": [],
   "source": [
    "def create_dataset(sequence, length, shuffle=False, seed=None, batch_size=32): \n",
    "    \"\"\"\n",
    "    Takes input tensors which are tokens created from text and creates x, y. \n",
    "    Where y is shifted by 1.\n",
    "    sequence: input tensors\n",
    "    length: context size (how many chars at a time do you want the model to see)\n",
    "    \"\"\"\n",
    "    ds = tf.data.Dataset.from_tensor_slices(sequence) \n",
    "    ds = ds.window(length + 1, shift=1, drop_remainder=True) \n",
    "    ds = ds.flat_map(lambda window_ds: window_ds.batch(length + 1)) \n",
    "    if shuffle: \n",
    "        ds = ds.shuffle(buffer_size=100_000, seed=seed) \n",
    "    ds = ds.batch(batch_size) \n",
    "    return ds.map(lambda window: (window[:, :-1], window[:, 1:])).prefetch(1)"
   ]
  },
  {
   "cell_type": "code",
   "execution_count": 86,
   "id": "5ce443ff-fb39-4d65-816b-e524c4cdc112",
   "metadata": {},
   "outputs": [],
   "source": [
    "# 90:5:5 = train:test:validation\n",
    "length = 64\n",
    "tf.random.set_seed(42) # so that valid_set, test_test contain unseen data\n",
    "train_set = create_dataset(tokens[:1_000_000], length=length, shuffle=True, seed=42) \n",
    "valid_set = create_dataset(tokens[1_000_000:1_060_000], length=length) \n",
    "test_set = create_dataset(tokens[1_060_000:], length=length)"
   ]
  },
  {
   "cell_type": "code",
   "execution_count": null,
   "id": "2c9779e4-db1c-474f-83b0-7ce97f7ab41f",
   "metadata": {},
   "outputs": [],
   "source": [
    "model = tf.keras.Sequential([ \n",
    "    tf.keras.layers.Embedding(input_dim=vocab_size, output_dim=16), \n",
    "    tf.keras.layers.GRU(128, return_sequences=True), \n",
    "    tf.keras.layers.Dense(vocab_size, activation=\"softmax\") \n",
    "]) \n",
    "model.compile(loss=\"sparse_categorical_crossentropy\", optimizer=\"nadam\", \n",
    "              metrics=[\"accuracy\"])\n",
    "\n",
    "model_ckpt = tf.keras.callbacks.ModelCheckpoint(\"my_shakespeare_model.keras\", monitor=\"val_accuracy\", save_best_only=True) \n",
    "history = model.fit(train_set, validation_data=valid_set, epochs=1, callbacks=[model_ckpt])"
   ]
  },
  {
   "cell_type": "code",
   "execution_count": 76,
   "id": "6d13adf6-a2c1-4390-b0e1-96ade5e25eaf",
   "metadata": {},
   "outputs": [
    {
     "data": {
      "text/plain": [
       "<_PrefetchDataset element_spec=(TensorSpec(shape=(None, None), dtype=tf.int64, name=None), TensorSpec(shape=(None, None), dtype=tf.int64, name=None))>"
      ]
     },
     "execution_count": 76,
     "metadata": {},
     "output_type": "execute_result"
    }
   ],
   "source": [
    "shakespeare_model = tf.keras.Sequential([\n",
    "    text_vec_layer, \n",
    "    tf.keras.layers.Lambda(lambda X: X - 2),  # no <PAD> or <UNK> tokens \n",
    "    model \n",
    "])\n",
    "\n",
    "y_proba = shakespeare_model.predict([\"To be or not to b\"])[0, -1] \n",
    "y_pred = tf.argmax(y_proba)  # choose the most probable character ID \n",
    "text_vec_layer.get_vocabulary()[y_pred + 2] "
   ]
  },
  {
   "cell_type": "code",
   "execution_count": 134,
   "id": "101474ea-c7a3-45de-b498-c6ccd0b8c47c",
   "metadata": {},
   "outputs": [],
   "source": [
    "def create_dataset(sequence, length, shuffle=False, seed=None, batch_size=32): \n",
    "    \"\"\"\n",
    "    Takes input tensors which are tokens created from text and creates x, y. \n",
    "    Where y is shifted by 1.\n",
    "    sequence: input tensors\n",
    "    length: context size (how many chars at a time do you want the model to see)\n",
    "    \"\"\"\n",
    "    ds = tf.data.Dataset.from_tensor_slices(sequence) \n",
    "    ds = ds.window(length + 1, shift=1, drop_remainder=True) \n",
    "    ds = ds.flat_map(lambda window_ds: window_ds.batch(length + 1)) \n",
    "    if shuffle: \n",
    "        ds = ds.shuffle(buffer_size=100_000, seed=seed) \n",
    "    ds = ds.batch(batch_size) \n",
    "    return ds.map(lambda window: (window[:, :-1], window[:, 1:])).prefetch(1)"
   ]
  },
  {
   "cell_type": "code",
   "execution_count": 137,
   "id": "b1fc6256-4000-486b-8eb5-6c03215d782e",
   "metadata": {},
   "outputs": [],
   "source": [
    "import torch\n",
    "from torch.utils.data import Dataset\n",
    " \n",
    "\n",
    "class PicoGPTDataset(Dataset):\n",
    "    def __init__(self, text, tokenizer, context_size, stride):\n",
    "        self.tokenizer = tokenizer\n",
    "        self.input_ids = []\n",
    "        self.target_ids = []\n",
    " \n",
    "        token_ids = tokenizer.encode(text)\n",
    " \n",
    "        for i in range(0, len(token_ids) - context_size, stride):\n",
    "            input_chunk = token_ids[i:i + context_size]\n",
    "            target_chunk = token_ids[i + 1: i + context_size + 1]\n",
    "            # requires_grad_(True) tells all of the input tensors should be used to calculate the gradients\n",
    "            # it is set to False here by default\n",
    "            self.input_ids.append(torch.tensor(input_chunk))\n",
    "            self.target_ids.append(torch.tensor(target_chunk))\n",
    " \n",
    "    def __len__(self):\n",
    "        return len(self.input_ids)\n",
    " \n",
    "    def __getitem__(self, idx):\n",
    "        return self.input_ids[idx], self.target_ids[idx]"
   ]
  },
  {
   "cell_type": "code",
   "execution_count": null,
   "id": "6473df8b-6696-4b89-a79c-89d445f5d466",
   "metadata": {},
   "outputs": [],
   "source": [
    "model = tf.keras.Sequential([ \n",
    "    tf.keras.layers.Embedding(input_dim=vocab_size, output_dim=16), \n",
    "    tf.keras.layers.GRU(128, return_sequences=True), \n",
    "    tf.keras.layers.Dense(vocab_size, activation=\"softmax\") \n",
    "]) \n",
    "model.compile(loss=\"sparse_categorical_crossentropy\", optimizer=\"nadam\", \n",
    "              metrics=[\"accuracy\"])\n",
    "\n",
    "model_ckpt = tf.keras.callbacks.ModelCheckpoint(\"my_shakespeare_model.keras\", monitor=\"val_accuracy\", save_best_only=True) \n",
    "history = model.fit(train_set, validation_data=valid_set, epochs=1, callbacks=[model_ckpt])"
   ]
  },
  {
   "cell_type": "code",
   "execution_count": 1,
   "id": "6428e396-6cc5-4549-a67f-974e787210df",
   "metadata": {},
   "outputs": [
    {
     "ename": "NameError",
     "evalue": "name 'train_set' is not defined",
     "output_type": "error",
     "traceback": [
      "\u001b[1;31m---------------------------------------------------------------------------\u001b[0m",
      "\u001b[1;31mNameError\u001b[0m                                 Traceback (most recent call last)",
      "Cell \u001b[1;32mIn[1], line 38\u001b[0m\n\u001b[0;32m     36\u001b[0m \u001b[38;5;28;01mfor\u001b[39;00m epoch \u001b[38;5;129;01min\u001b[39;00m \u001b[38;5;28mrange\u001b[39m(num_epochs):\n\u001b[0;32m     37\u001b[0m     model\u001b[38;5;241m.\u001b[39mtrain()\n\u001b[1;32m---> 38\u001b[0m     \u001b[38;5;28;01mfor\u001b[39;00m batch \u001b[38;5;129;01min\u001b[39;00m \u001b[43mtrain_set\u001b[49m:  \u001b[38;5;66;03m# Assume train_set is a DataLoader\u001b[39;00m\n\u001b[0;32m     39\u001b[0m         inputs, targets \u001b[38;5;241m=\u001b[39m batch\n\u001b[0;32m     40\u001b[0m         inputs, targets \u001b[38;5;241m=\u001b[39m inputs\u001b[38;5;241m.\u001b[39mto(device), targets\u001b[38;5;241m.\u001b[39mto(device)\n",
      "\u001b[1;31mNameError\u001b[0m: name 'train_set' is not defined"
     ]
    }
   ],
   "source": []
  },
  {
   "cell_type": "code",
   "execution_count": null,
   "id": "ba769cd6-84b0-49e2-b37d-4ea5f24c3249",
   "metadata": {},
   "outputs": [],
   "source": []
  }
 ],
 "metadata": {
  "kernelspec": {
   "display_name": "Python 3 (ipykernel)",
   "language": "python",
   "name": "python3"
  },
  "language_info": {
   "codemirror_mode": {
    "name": "ipython",
    "version": 3
   },
   "file_extension": ".py",
   "mimetype": "text/x-python",
   "name": "python",
   "nbconvert_exporter": "python",
   "pygments_lexer": "ipython3",
   "version": "3.10.11"
  }
 },
 "nbformat": 4,
 "nbformat_minor": 5
}
